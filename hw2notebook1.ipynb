{
 "cells": [
  {
   "cell_type": "code",
   "execution_count": 1,
   "id": "1b77e882",
   "metadata": {},
   "outputs": [],
   "source": [
    "import nltk\n",
    "from nltk import word_tokenize\n",
    "from nltk.util import ngrams\n",
    "import pickle"
   ]
  },
  {
   "cell_type": "code",
   "execution_count": 2,
   "id": "94d1024e",
   "metadata": {},
   "outputs": [],
   "source": [
    "def make_dicts(filename):\n",
    "    with open(filename, \"r\") as file:\n",
    "        text = file.read()\n",
    "    cleaned = text.replace(\"\\n\", \" \")\n",
    "    cleaned = text.replace(\"\\t\", \" \")\n",
    "    unigrams = word_tokenize(cleaned)\n",
    "    bigrams = list(ngrams(unigrams, 2))\n",
    "\n",
    "    unigram_dict = {t:unigrams.count(t) for t in set(unigrams)}\n",
    "    bigram_dict = {b:bigrams.count(b) for b in set(bigrams)}\n",
    "\n",
    "    return unigram_dict, bigram_dict"
   ]
  },
  {
   "cell_type": "code",
   "execution_count": 3,
   "id": "d2616b54",
   "metadata": {},
   "outputs": [],
   "source": [
    "eng_tup = make_dicts(\"english.txt\")\n",
    "eng_uni = eng_tup[0]\n",
    "eng_bi = eng_tup[1]\n",
    "with open('english_unigrams.pkl', 'wb') as file:\n",
    "    pickle.dump(eng_uni, file)\n",
    "with open('english_bigrams.pkl', 'wb') as file:\n",
    "    pickle.dump(eng_bi, file)\n",
    "\n"
   ]
  },
  {
   "cell_type": "code",
   "execution_count": 4,
   "id": "84accd1b",
   "metadata": {},
   "outputs": [],
   "source": [
    "fr_tup = make_dicts(\"french.txt\")\n",
    "fr_uni = fr_tup[0]\n",
    "fr_bi = fr_tup[1]\n",
    "with open('french_unigrams.pkl', 'wb') as file:\n",
    "    pickle.dump(fr_uni, file)\n",
    "with open('french_bigrams.pkl', 'wb') as file:\n",
    "    pickle.dump(fr_bi, file)"
   ]
  },
  {
   "cell_type": "code",
   "execution_count": 5,
   "id": "1a971ecc",
   "metadata": {},
   "outputs": [],
   "source": [
    "it_tup = make_dicts(\"italian.txt\")\n",
    "it_uni = it_tup[0]\n",
    "it_bi = it_tup[1]\n",
    "with open('italian_unigrams.pkl', 'wb') as file:\n",
    "    pickle.dump(it_uni, file)\n",
    "with open('italian_bigrams.pkl', 'wb') as file:\n",
    "    pickle.dump(it_bi, file)"
   ]
  },
  {
   "cell_type": "code",
   "execution_count": 6,
   "id": "49f5770f",
   "metadata": {},
   "outputs": [],
   "source": [
    "from nltk.corpus import brown\n",
    "words = brown.words()\n",
    "text = ' '.join(words)\n",
    "with open(\"english.txt\", 'w') as file:\n",
    "    file.write(text)"
   ]
  },
  {
   "cell_type": "code",
   "execution_count": null,
   "id": "55ae553a",
   "metadata": {},
   "outputs": [],
   "source": []
  }
 ],
 "metadata": {
  "kernelspec": {
   "display_name": "nltk_env",
   "language": "python",
   "name": "python3"
  },
  "language_info": {
   "codemirror_mode": {
    "name": "ipython",
    "version": 3
   },
   "file_extension": ".py",
   "mimetype": "text/x-python",
   "name": "python",
   "nbconvert_exporter": "python",
   "pygments_lexer": "ipython3",
   "version": "3.10.18"
  }
 },
 "nbformat": 4,
 "nbformat_minor": 5
}
