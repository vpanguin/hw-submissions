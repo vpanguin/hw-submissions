{
 "cells": [
  {
   "cell_type": "code",
   "execution_count": 4,
   "id": "1b77e882",
   "metadata": {},
   "outputs": [],
   "source": [
    "import nltk\n",
    "from nltk import word_tokenize\n",
    "from nltk.util import ngrams\n",
    "import pickle"
   ]
  },
  {
   "cell_type": "code",
   "execution_count": null,
   "id": "94d1024e",
   "metadata": {},
   "outputs": [],
   "source": [
    "def make_dicts(filename):\n",
    "    with open(filename, \"r\") as file:\n",
    "        text = file.read()\n",
    "    cleaned = text.replace(\"\\n\", \" \")\n",
    "    cleaned = text.replace(\"\\t\", \" \")\n",
    "    unigrams = word_tokenize(cleaned)\n",
    "    bigrams = list(ngrams(unigrams, 2))\n",
    "\n",
    "    unigram_dict = {t:unigrams.count(t) for t in set(unigrams)}\n",
    "    bigram_dict = {b:bigrams.count(b) for b in set(bigrams)}\n",
    "\n",
    "    return unigram_dict, bigram_dict"
   ]
  },
  {
   "cell_type": "code",
   "execution_count": 9,
   "id": "d2616b54",
   "metadata": {},
   "outputs": [
    {
     "ename": "KeyboardInterrupt",
     "evalue": "",
     "output_type": "error",
     "traceback": [
      "\u001b[1;31m---------------------------------------------------------------------------\u001b[0m",
      "\u001b[1;31mKeyboardInterrupt\u001b[0m                         Traceback (most recent call last)",
      "Cell \u001b[1;32mIn[9], line 1\u001b[0m\n\u001b[1;32m----> 1\u001b[0m eng_tup \u001b[38;5;241m=\u001b[39m \u001b[43mmake_dicts\u001b[49m\u001b[43m(\u001b[49m\u001b[38;5;124;43m\"\u001b[39;49m\u001b[38;5;124;43menglish.txt\u001b[39;49m\u001b[38;5;124;43m\"\u001b[39;49m\u001b[43m)\u001b[49m\n\u001b[0;32m      2\u001b[0m eng_uni \u001b[38;5;241m=\u001b[39m eng_tup[\u001b[38;5;241m0\u001b[39m]\n\u001b[0;32m      3\u001b[0m eng_bi \u001b[38;5;241m=\u001b[39m eng_tup[\u001b[38;5;241m1\u001b[39m]\n",
      "Cell \u001b[1;32mIn[2], line 8\u001b[0m, in \u001b[0;36mmake_dicts\u001b[1;34m(filename)\u001b[0m\n\u001b[0;32m      5\u001b[0m unigrams \u001b[38;5;241m=\u001b[39m word_tokenize(cleaned)\n\u001b[0;32m      6\u001b[0m bigrams \u001b[38;5;241m=\u001b[39m \u001b[38;5;28mlist\u001b[39m(ngrams(unigrams, \u001b[38;5;241m2\u001b[39m))\n\u001b[1;32m----> 8\u001b[0m unigram_dict \u001b[38;5;241m=\u001b[39m {t:unigrams\u001b[38;5;241m.\u001b[39mcount(t) \u001b[38;5;28;01mfor\u001b[39;00m t \u001b[38;5;129;01min\u001b[39;00m \u001b[38;5;28mset\u001b[39m(unigrams)}\n\u001b[0;32m      9\u001b[0m bigram_dict \u001b[38;5;241m=\u001b[39m {b:bigrams\u001b[38;5;241m.\u001b[39mcount(b) \u001b[38;5;28;01mfor\u001b[39;00m b \u001b[38;5;129;01min\u001b[39;00m \u001b[38;5;28mset\u001b[39m(bigrams)}\n\u001b[0;32m     11\u001b[0m \u001b[38;5;28;01mreturn\u001b[39;00m unigram_dict, bigram_dict\n",
      "Cell \u001b[1;32mIn[2], line 8\u001b[0m, in \u001b[0;36m<dictcomp>\u001b[1;34m(.0)\u001b[0m\n\u001b[0;32m      5\u001b[0m unigrams \u001b[38;5;241m=\u001b[39m word_tokenize(cleaned)\n\u001b[0;32m      6\u001b[0m bigrams \u001b[38;5;241m=\u001b[39m \u001b[38;5;28mlist\u001b[39m(ngrams(unigrams, \u001b[38;5;241m2\u001b[39m))\n\u001b[1;32m----> 8\u001b[0m unigram_dict \u001b[38;5;241m=\u001b[39m {t:unigrams\u001b[38;5;241m.\u001b[39mcount(t) \u001b[38;5;28;01mfor\u001b[39;00m t \u001b[38;5;129;01min\u001b[39;00m \u001b[38;5;28mset\u001b[39m(unigrams)}\n\u001b[0;32m      9\u001b[0m bigram_dict \u001b[38;5;241m=\u001b[39m {b:bigrams\u001b[38;5;241m.\u001b[39mcount(b) \u001b[38;5;28;01mfor\u001b[39;00m b \u001b[38;5;129;01min\u001b[39;00m \u001b[38;5;28mset\u001b[39m(bigrams)}\n\u001b[0;32m     11\u001b[0m \u001b[38;5;28;01mreturn\u001b[39;00m unigram_dict, bigram_dict\n",
      "\u001b[1;31mKeyboardInterrupt\u001b[0m: "
     ]
    }
   ],
   "source": [
    "eng_tup = make_dicts(\"english.txt\")\n",
    "eng_uni = eng_tup[0]\n",
    "eng_bi = eng_tup[1]\n",
    "with open('english_unigrams.pkl', 'wb') as file:\n",
    "    pickle.dump(eng_uni, file)\n",
    "with open('english_bigrams.pkl', 'wb') as file:\n",
    "    pickle.dump(eng_bi, file)\n",
    "\n"
   ]
  },
  {
   "cell_type": "code",
   "execution_count": 10,
   "id": "84accd1b",
   "metadata": {},
   "outputs": [],
   "source": [
    "fr_tup = make_dicts(\"french.txt\")\n",
    "fr_uni = fr_tup[0]\n",
    "fr_bi = fr_tup[1]\n",
    "with open('french_unigrams.pkl', 'wb') as file:\n",
    "    pickle.dump(fr_uni, file)\n",
    "with open('french_bigrams.pkl', 'wb') as file:\n",
    "    pickle.dump(fr_bi, file)"
   ]
  },
  {
   "cell_type": "code",
   "execution_count": 11,
   "id": "1a971ecc",
   "metadata": {},
   "outputs": [],
   "source": [
    "it_tup = make_dicts(\"italian.txt\")\n",
    "it_uni = it_tup[0]\n",
    "it_bi = it_tup[1]\n",
    "with open('italian_unigrams.pkl', 'wb') as file:\n",
    "    pickle.dump(it_uni, file)\n",
    "with open('italian_bigrams.pkl', 'wb') as file:\n",
    "    pickle.dump(it_bi, file)"
   ]
  },
  {
   "cell_type": "code",
   "execution_count": 7,
   "id": "49f5770f",
   "metadata": {},
   "outputs": [],
   "source": [
    "from nltk.corpus import brown\n",
    "words = brown.words()\n",
    "text = ' '.join(words)\n",
    "with open(\"english.txt\", 'w') as file:\n",
    "    file.write(text)"
   ]
  },
  {
   "cell_type": "code",
   "execution_count": null,
   "id": "55ae553a",
   "metadata": {},
   "outputs": [],
   "source": []
  }
 ],
 "metadata": {
  "kernelspec": {
   "display_name": "nltk_env",
   "language": "python",
   "name": "python3"
  },
  "language_info": {
   "codemirror_mode": {
    "name": "ipython",
    "version": 3
   },
   "file_extension": ".py",
   "mimetype": "text/x-python",
   "name": "python",
   "nbconvert_exporter": "python",
   "pygments_lexer": "ipython3",
   "version": "3.10.18"
  }
 },
 "nbformat": 4,
 "nbformat_minor": 5
}
