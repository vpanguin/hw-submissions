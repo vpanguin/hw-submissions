{
 "cells": [
  {
   "cell_type": "code",
   "execution_count": 20,
   "id": "b4c0fcc2",
   "metadata": {},
   "outputs": [
    {
     "name": "stdout",
     "output_type": "stream",
     "text": [
      "Naive Bayes: Number of mislabeled points out of a total 24 points : 3\n",
      "Logistic Regression: Number of mislabeled points out of a total 24 points : 3\n",
      "Neural Networks: Number of mislabeled points out of a total 24 points : 2\n"
     ]
    },
    {
     "name": "stderr",
     "output_type": "stream",
     "text": [
      "c:\\Users\\vivia\\anaconda3\\envs\\nltk_env\\lib\\site-packages\\sklearn\\linear_model\\_logistic.py:470: ConvergenceWarning: lbfgs failed to converge after 1000 iteration(s) (status=1):\n",
      "STOP: TOTAL NO. OF ITERATIONS REACHED LIMIT\n",
      "\n",
      "Increase the number of iterations to improve the convergence (max_iter=1000).\n",
      "You might also want to scale the data as shown in:\n",
      "    https://scikit-learn.org/stable/modules/preprocessing.html\n",
      "Please also refer to the documentation for alternative solver options:\n",
      "    https://scikit-learn.org/stable/modules/linear_model.html#logistic-regression\n",
      "  n_iter_i = _check_optimize_result(\n"
     ]
    }
   ],
   "source": [
    "import pandas as pd\n",
    "from sklearn.model_selection import train_test_split\n",
    "import matplotlib.pyplot as plt\n",
    "\n",
    "df = pd.read_csv(\"groundhogpredictions.csv\")\n",
    "#print(df.columns)\n",
    "X = df[['February Average Temperature',\n",
    "       'February Average Temperature (Northeast)',\n",
    "       'February Average Temperature (Midwest)',\n",
    "       'February Average Temperature (Pennsylvania)',\n",
    "       'March Average Temperature', 'March Average Temperature (Northeast)',\n",
    "       'March Average Temperature (Midwest)',\n",
    "       'March Average Temperature (Pennsylvania)']]\n",
    "y = df[\"Punxsutawney Phil\"]\n",
    "X_train, X_test, y_train, y_test = train_test_split(X, y, test_size=0.2, random_state=1)\n",
    "\n",
    "from sklearn.naive_bayes import GaussianNB\n",
    "gnb = GaussianNB()\n",
    "y_pred_gnb = gnb.fit(X_train, y_train).predict(X_test)\n",
    "print(\"Naive Bayes: Number of mislabeled points out of a total %d points : %d\"\n",
    "      % (X_test.shape[0], (y_test != y_pred_gnb).sum()))\n",
    "\n",
    "from sklearn.linear_model import LogisticRegression\n",
    "lr = LogisticRegression(max_iter=1000)\n",
    "y_pred_lr = lr.fit(X_train, y_train).predict(X_test)\n",
    "print(\"Logistic Regression: Number of mislabeled points out of a total %d points : %d\"\n",
    "      % (X_test.shape[0], (y_test != y_pred_lr).sum()))\n",
    "\n",
    "from sklearn.neural_network import MLPClassifier\n",
    "mlp = MLPClassifier(max_iter=1000, random_state=1)\n",
    "y_pred_mlp = mlp.fit(X_train, y_train).predict(X_test)\n",
    "print(\"Neural Networks: Number of mislabeled points out of a total %d points : %d\"\n",
    "      % (X_test.shape[0], (y_test != y_pred_mlp).sum()))\n"
   ]
  },
  {
   "cell_type": "code",
   "execution_count": null,
   "id": "2b31e31c",
   "metadata": {},
   "outputs": [],
   "source": []
  }
 ],
 "metadata": {
  "kernelspec": {
   "display_name": "nltk_env",
   "language": "python",
   "name": "python3"
  },
  "language_info": {
   "codemirror_mode": {
    "name": "ipython",
    "version": 3
   },
   "file_extension": ".py",
   "mimetype": "text/x-python",
   "name": "python",
   "nbconvert_exporter": "python",
   "pygments_lexer": "ipython3",
   "version": "3.10.18"
  }
 },
 "nbformat": 4,
 "nbformat_minor": 5
}
