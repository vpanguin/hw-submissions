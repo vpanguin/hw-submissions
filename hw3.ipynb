{
 "cells": [
  {
   "cell_type": "code",
   "execution_count": 37,
   "id": "b4c0fcc2",
   "metadata": {},
   "outputs": [
    {
     "name": "stdout",
     "output_type": "stream",
     "text": [
      "Index(['Type', 'Text'], dtype='object')\n",
      "Naive Bayes: Number of mislabeled points out of a total 1000 points : 103\n",
      "Logistic Regression: Number of mislabeled points out of a total 1000 points : 70\n",
      "Neural Networks: Number of mislabeled points out of a total 1000 points : 51\n"
     ]
    }
   ],
   "source": [
    "import pandas as pd\n",
    "from sklearn.model_selection import train_test_split\n",
    "import matplotlib.pyplot as plt\n",
    "from sklearn.feature_extraction.text import TfidfVectorizer\n",
    "\n",
    "df = pd.read_csv(\"ecommerceDataset.csv\")\n",
    "df = df.sample(n=5000, random_state=1)\n",
    "df = df.dropna(subset=['Text'])\n",
    "print(df.columns)\n",
    "\n",
    "X_text = df[\"Text\"]\n",
    "y = df[\"Type\"]\n",
    "\n",
    "vectorizer = TfidfVectorizer()\n",
    "X = vectorizer.fit_transform(X_text)\n",
    "X_dense = X.toarray()\n",
    "\n",
    "X_train, X_test, y_train, y_test = train_test_split(X_dense, y, test_size=0.2, random_state=1)\n",
    "\n",
    "from sklearn.naive_bayes import GaussianNB\n",
    "gnb = GaussianNB()\n",
    "y_pred_gnb = gnb.fit(X_train, y_train).predict(X_test)\n",
    "print(\"Naive Bayes: Number of mislabeled points out of a total %d points : %d\"\n",
    "      % (X_test.shape[0], (y_test != y_pred_gnb).sum()))\n",
    "\n",
    "from sklearn.linear_model import LogisticRegression\n",
    "lr = LogisticRegression(max_iter=1000)\n",
    "y_pred_lr = lr.fit(X_train, y_train).predict(X_test)\n",
    "print(\"Logistic Regression: Number of mislabeled points out of a total %d points : %d\"\n",
    "      % (X_test.shape[0], (y_test != y_pred_lr).sum()))\n",
    "\n",
    "from sklearn.neural_network import MLPClassifier\n",
    "mlp = MLPClassifier(max_iter=1000, random_state=1)\n",
    "y_pred_mlp = mlp.fit(X_train, y_train).predict(X_test)\n",
    "print(\"Neural Networks: Number of mislabeled points out of a total %d points : %d\"\n",
    "      % (X_test.shape[0], (y_test != y_pred_mlp).sum()))\n"
   ]
  },
  {
   "cell_type": "code",
   "execution_count": null,
   "id": "2b31e31c",
   "metadata": {},
   "outputs": [],
   "source": []
  }
 ],
 "metadata": {
  "kernelspec": {
   "display_name": "nltk_env",
   "language": "python",
   "name": "python3"
  },
  "language_info": {
   "codemirror_mode": {
    "name": "ipython",
    "version": 3
   },
   "file_extension": ".py",
   "mimetype": "text/x-python",
   "name": "python",
   "nbconvert_exporter": "python",
   "pygments_lexer": "ipython3",
   "version": "3.10.18"
  }
 },
 "nbformat": 4,
 "nbformat_minor": 5
}
