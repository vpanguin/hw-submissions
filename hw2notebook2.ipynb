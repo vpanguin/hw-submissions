{
 "cells": [
  {
   "cell_type": "code",
   "execution_count": 6,
   "id": "10d26f43",
   "metadata": {},
   "outputs": [
    {
     "name": "stdout",
     "output_type": "stream",
     "text": [
      "3.916691378852977e-35 3.958632013569082e-35 3.958632013569082e-35\n",
      "italian\n"
     ]
    }
   ],
   "source": [
    "import pickle\n",
    "from nltk import word_tokenize, bigrams\n",
    "\n",
    "def calculate_probability(test_line, unigram_file, bigram_file, total_vocab_size):\n",
    "    with open(unigram_file, 'rb') as file:\n",
    "        unigram_dict = pickle.load(file)\n",
    "    with open(bigram_file, 'rb') as file:\n",
    "        bigram_dict = pickle.load(file)\n",
    "    tokens = word_tokenize(test_line.lower())\n",
    "    bigram_list = list(bigrams(tokens))\n",
    "\n",
    "    probability = 1.0\n",
    "\n",
    "    for bigram_pair in bigram_list:\n",
    "        b = bigram_dict.get(bigram_pair, 0)\n",
    "        u = unigram_dict.get(bigram_pair[0], 0)\n",
    "        v = total_vocab_size\n",
    "        smoothed = (b+1)/(u+v)\n",
    "        probability *= smoothed\n",
    "\n",
    "    return probability\n",
    "\n",
    "def predict_language(test_line, size):\n",
    "    eng = calculate_probability(test_line, \"english_unigrams.pkl\", \"english_bigrams.pkl\", size)\n",
    "    fr = calculate_probability(test_line, \"french_unigrams.pkl\", \"french_bigrams.pkl\", size)\n",
    "    it = calculate_probability(test_line, \"italian_unigrams.pkl\", \"italian_bigrams.pkl\", size)\n",
    "    print(eng, fr, it)\n",
    "    if eng > fr and eng > it:\n",
    "        return \"english\"\n",
    "    elif fr > eng and fr > it:\n",
    "        return \"french\"\n",
    "    else:\n",
    "        return \"italian\"\n",
    "\n",
    "size = 6645\n",
    "print(predict_language(\"to acquire sites for underground storage reservoirs for gas . \", size))\n"
   ]
  },
  {
   "cell_type": "code",
   "execution_count": null,
   "id": "fad00263",
   "metadata": {},
   "outputs": [],
   "source": []
  }
 ],
 "metadata": {
  "kernelspec": {
   "display_name": "nltk_env",
   "language": "python",
   "name": "python3"
  },
  "language_info": {
   "codemirror_mode": {
    "name": "ipython",
    "version": 3
   },
   "file_extension": ".py",
   "mimetype": "text/x-python",
   "name": "python",
   "nbconvert_exporter": "python",
   "pygments_lexer": "ipython3",
   "version": "3.10.18"
  }
 },
 "nbformat": 4,
 "nbformat_minor": 5
}
